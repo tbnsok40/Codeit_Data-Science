{
 "cells": [
  {
   "cell_type": "markdown",
   "metadata": {},
   "source": [
    "# 데이터 만들기"
   ]
  },
  {
   "cell_type": "markdown",
   "metadata": {},
   "source": [
    "자라가 떠오르는 이유: 데이터를 잘 다룬다.\n",
    "\n",
    "- 고객들에게 질문을 하고 저장하여 분석한다.\n",
    "- 모든 옷에 칩을 담아 피팅룸을 지나간 횟수를 기록\n",
    "- 디자인부터 매장 입고까지의 시간 단축, 효율적인 재고 관리 가능"
   ]
  },
  {
   "cell_type": "markdown",
   "metadata": {},
   "source": [
    "- 가장 큰 경쟁력은 우선 데이터를 모으는 것."
   ]
  },
  {
   "cell_type": "markdown",
   "metadata": {},
   "source": [
    "데이터를 구하는 가장 쉬운 방법은, 이미 누군가 만들어둔 데이터를 사용하는 것입니다.\n",
    "\n",
    "대표적으로, 국가 기관에서는 공익 목적으로 여러 데이터를 공개합니다.\n",
    "그 외에도 데이터를 검색하는 사이트나, 데이터를 공유하는 사이트들이 있죠.\n",
    "\n",
    "국내 사이트\n",
    "서울열린데이터광장\n",
    "https://data.seoul.go.kr/\n",
    "\n",
    "공공데이터포털\n",
    "https://www.data.go.kr\n",
    "\n",
    "e-나라지표\n",
    "http://www.index.go.kr/\n",
    "\n",
    "국가통계포털\n",
    "http://kosis.kr\n",
    "\n",
    "서울특별시 빅데이터 캠퍼스\n",
    "https://bigdata.seoul.go.kr/\n",
    "\n",
    "통계청\n",
    "http://kostat.go.kr/\n",
    "\n",
    "각 사이트를 보면, 여러 분야의 데이터를 다운로드 받을 수 있습니다.\n",
    "혹은 원하는 데이터를 신청하면 제공해주기도 합니다.\n",
    "\n",
    "그 외에도 데이터를 제공하는 여러 해외 사이트들이 있습니다.\n",
    "\n",
    "해외 사이트\n",
    "구글 데이터 검색\n",
    "https://toolbox.google.com/datasetsearch\n",
    "\n",
    "캐글\n",
    "https://www.kaggle.com/datasets\n",
    "\n",
    "Awesome Public Datasets Github\n",
    "https://github.com/awesomedata/awesome-public-datasets\n",
    "\n",
    "Data and Story Library\n",
    "https://dasl.datadescription.com/\n",
    "\n",
    "데이터허브\n",
    "https://datahub.io/\n",
    "\n",
    "구글 등의 검색 엔진을 활용하면, 더 다양한 데이터를 찾을 수 있습니다.\n",
    "\n",
    "하지만 데이터에 저작권이 있기도 하니, 실제로 데이터를 활용할 때는 잘 확인하고 사용하셔야 합니다."
   ]
  },
  {
   "cell_type": "markdown",
   "metadata": {},
   "source": [
    "- 웹 스크레이핑:\n",
    "하나의 웹페이지에서 내용을 긁어오는 것.\n",
    "\n",
    "- 웰 크롤링:\n",
    "웹 페이지를 자동으로 여럿 모으는 것. \n",
    "웹 크롤링을 해주는 프로그램을 크롤러라고 부른다."
   ]
  },
  {
   "cell_type": "code",
   "execution_count": null,
   "metadata": {},
   "outputs": [],
   "source": []
  }
 ],
 "metadata": {
  "kernelspec": {
   "display_name": "Python 3",
   "language": "python",
   "name": "python3"
  },
  "language_info": {
   "codemirror_mode": {
    "name": "ipython",
    "version": 3
   },
   "file_extension": ".py",
   "mimetype": "text/x-python",
   "name": "python",
   "nbconvert_exporter": "python",
   "pygments_lexer": "ipython3",
   "version": "3.7.3"
  }
 },
 "nbformat": 4,
 "nbformat_minor": 2
}
