{
 "cells": [
  {
   "cell_type": "code",
   "execution_count": 1,
   "metadata": {},
   "outputs": [],
   "source": [
    "import pandas as pd"
   ]
  },
  {
   "cell_type": "markdown",
   "metadata": {},
   "source": [
    "# 강서구 월별 오염물 별 농도"
   ]
  },
  {
   "cell_type": "code",
   "execution_count": 201,
   "metadata": {},
   "outputs": [
    {
     "data": {
      "text/html": [
       "<div>\n",
       "<style scoped>\n",
       "    .dataframe tbody tr th:only-of-type {\n",
       "        vertical-align: middle;\n",
       "    }\n",
       "\n",
       "    .dataframe tbody tr th {\n",
       "        vertical-align: top;\n",
       "    }\n",
       "\n",
       "    .dataframe thead th {\n",
       "        text-align: right;\n",
       "    }\n",
       "</style>\n",
       "<table border=\"1\" class=\"dataframe\">\n",
       "  <thead>\n",
       "    <tr style=\"text-align: right;\">\n",
       "      <th></th>\n",
       "      <th>pm25</th>\n",
       "    </tr>\n",
       "    <tr>\n",
       "      <th>month</th>\n",
       "      <th></th>\n",
       "    </tr>\n",
       "  </thead>\n",
       "  <tbody>\n",
       "    <tr>\n",
       "      <th>1</th>\n",
       "      <td>30.443919</td>\n",
       "    </tr>\n",
       "    <tr>\n",
       "      <th>2</th>\n",
       "      <td>32.975262</td>\n",
       "    </tr>\n",
       "    <tr>\n",
       "      <th>3</th>\n",
       "      <td>30.360457</td>\n",
       "    </tr>\n",
       "    <tr>\n",
       "      <th>4</th>\n",
       "      <td>30.096729</td>\n",
       "    </tr>\n",
       "    <tr>\n",
       "      <th>5</th>\n",
       "      <td>26.132153</td>\n",
       "    </tr>\n",
       "    <tr>\n",
       "      <th>6</th>\n",
       "      <td>27.153203</td>\n",
       "    </tr>\n",
       "    <tr>\n",
       "      <th>7</th>\n",
       "      <td>23.711486</td>\n",
       "    </tr>\n",
       "    <tr>\n",
       "      <th>8</th>\n",
       "      <td>16.739689</td>\n",
       "    </tr>\n",
       "    <tr>\n",
       "      <th>9</th>\n",
       "      <td>13.832012</td>\n",
       "    </tr>\n",
       "    <tr>\n",
       "      <th>10</th>\n",
       "      <td>18.253879</td>\n",
       "    </tr>\n",
       "    <tr>\n",
       "      <th>11</th>\n",
       "      <td>30.771588</td>\n",
       "    </tr>\n",
       "    <tr>\n",
       "      <th>12</th>\n",
       "      <td>25.923752</td>\n",
       "    </tr>\n",
       "  </tbody>\n",
       "</table>\n",
       "</div>"
      ],
      "text/plain": [
       "            pm25\n",
       "month           \n",
       "1      30.443919\n",
       "2      32.975262\n",
       "3      30.360457\n",
       "4      30.096729\n",
       "5      26.132153\n",
       "6      27.153203\n",
       "7      23.711486\n",
       "8      16.739689\n",
       "9      13.832012\n",
       "10     18.253879\n",
       "11     30.771588\n",
       "12     25.923752"
      ]
     },
     "execution_count": 201,
     "metadata": {},
     "output_type": "execute_result"
    }
   ],
   "source": [
    "# df = pd.read_csv('C:/codeit/rawdata.csv')\n",
    "\n",
    "df = df[['월','pm2.5','so2','o3','no2','pm10']]\n",
    "\n",
    "# lists = ['pm2.5','so2','o3','no2','pm10']\n",
    "\n",
    "# for particle in lists:\n",
    "#     for i in range(1,13):\n",
    "#         print((df.loc[df['월'] == i, particle]).mean())\n",
    "#     print('--------------------', particle)\n",
    "    \n",
    "# import seaborn as sns\n",
    "\n",
    "# dataframe 을 만들어야해. row 는 월별, column은 물질별\n",
    "\n",
    "pm25 = []\n",
    "\n",
    "for i in range(1,13):\n",
    "    pm25.append((df.loc[df['월'] == i, 'pm2.5']).mean())\n",
    "month = []\n",
    "for i in range(1,13):\n",
    "    month.append(i)\n",
    "\n",
    "diction = {\n",
    "    'month': month,\n",
    "    'pm25': pm25\n",
    "}\n",
    "df1 = pd.DataFrame(diction)\n",
    "df1 = df1.set_index('month')\n",
    "\n",
    "df1\n"
   ]
  },
  {
   "cell_type": "markdown",
   "metadata": {},
   "source": [
    "# 강서구 월별 pm2.5 평균 농도"
   ]
  },
  {
   "cell_type": "code",
   "execution_count": 155,
   "metadata": {},
   "outputs": [
    {
     "name": "stdout",
     "output_type": "stream",
     "text": [
      "30.443918918918918\n",
      "32.97526236881559\n",
      "30.360457296570274\n",
      "30.096729297146833\n",
      "26.132152588555858\n",
      "27.153203342618383\n",
      "23.711486486486486\n",
      "16.73968897903989\n",
      "13.832011535688537\n",
      "18.253878702397742\n",
      "30.771587743732592\n",
      "25.923751686909583\n"
     ]
    }
   ],
   "source": [
    "for i in range(1,13):\n",
    "    print(df.loc[df['월']==i,'pm2.5'].mean())"
   ]
  },
  {
   "cell_type": "markdown",
   "metadata": {},
   "source": [
    "# 문자열 처리 (부산시 강서구) ==> (강서구)"
   ]
  },
  {
   "cell_type": "code",
   "execution_count": 98,
   "metadata": {},
   "outputs": [
    {
     "data": {
      "text/plain": [
       "array(['강서구', '금정구', '기장군', '남구', '동구', '동래구', '부산진구', '북구', '사상구', '사하구',\n",
       "       '서구', '수영구', '연제구', '영도구', '중구', '해운대구'], dtype=object)"
      ]
     },
     "execution_count": 98,
     "metadata": {},
     "output_type": "execute_result"
    }
   ],
   "source": [
    "ad = pd.read_csv('C:/codeit/alldata.csv')\n",
    "ad.head()\n",
    "ad['지역'] = ad['지역'].apply(lambda e: e.split()[1]) # 개쩔~~~~\n",
    "ad['지역'].unique()"
   ]
  },
  {
   "cell_type": "code",
   "execution_count": 159,
   "metadata": {},
   "outputs": [],
   "source": [
    "busan_district = ['강서구', '금정구', '기장군', '남구', '동구', '동래구', '부산진구', '북구', '사상구', '사하구','서구', '수영구', '연제구', '영도구', '중구', \n",
    "                  '해운대구']\n",
    "\n",
    "# pm25 = ad[['월','지역','pm2.5']]\n",
    "\n",
    "# for district in busan_district:\n",
    "#     pm25[pm25['지역'] == district]\n",
    "    \n",
    "#     for i in range(1,13):\n",
    "\n",
    "# 이중 포문하면 너무 오래걸려\n",
    "\n",
    "# haeundae = pm25[pm25['지역'] == '해운대구']\n",
    "# for i in range(1,13):\n",
    "#     print((haeundae.loc[haeundae['월'] == i,'pm2.5']).mean())\n",
    "\n",
    "##     print((haeundae.loc[haeundae['월'] == i,'pm2.5']).mean())\n",
    "##    print(haeundae.loc[haeundae['월'] == i,'pm2.5']).mean()\n",
    "## print문을 감싸는 괄호가 있냐 없냐의 차이는 크다!\n"
   ]
  },
  {
   "cell_type": "code",
   "execution_count": 250,
   "metadata": {},
   "outputs": [
    {
     "data": {
      "text/plain": [
       "28.880484811291808"
      ]
     },
     "execution_count": 250,
     "metadata": {},
     "output_type": "execute_result"
    }
   ],
   "source": [
    "# 봄 여름 가을 겨울, 16개 구\n",
    "ad = ad[['지역','월','pm2.5']]\n",
    "kangseo = ad.loc[ad['지역'] =='강서구']\n",
    "# kangseo[kangseo['월'] == 5] # 1416 ~ 7967\n",
    "spring = kangseo.iloc[1416:7968, :]\n",
    "spring['pm2.5'].mean()\n",
    "# kangseo.loc[kangseo['월'] == 3, 'pm2.5'].mean()"
   ]
  },
  {
   "cell_type": "code",
   "execution_count": 301,
   "metadata": {},
   "outputs": [
    {
     "data": {
      "text/plain": [
       "28.860883424408016"
      ]
     },
     "execution_count": 301,
     "metadata": {},
     "output_type": "execute_result"
    }
   ],
   "source": [
    "ad = ad[['지역','월','pm2.5']]\n",
    "kangseo = ad.loc[ad['지역'] =='강서구']\n",
    "spring = ((kangseo['월'] >= 3) & (kangseo['월'] <= 5))\n",
    "kangseo[spring]['pm2.5'].mean()\n",
    "# summer = ((kangseo['월'] >= 6) & (kangseo['월'] <= 8)).mean()\n",
    "# fall = ((kangseo['월'] >= 9) & (kangseo['월'] <= 11)).mean()\n",
    "# winter = ((kangseo['월'] <= 2) + (kangseo['월'] == 12)).mean()\n",
    "# kangseo_list = [summer, spring, fall, winter]\n",
    "# kangseo_list\n"
   ]
  },
  {
   "cell_type": "code",
   "execution_count": 311,
   "metadata": {},
   "outputs": [
    {
     "name": "stdout",
     "output_type": "stream",
     "text": [
      "강서구 spring: 28.860883424408016  summer: 22.489874857792948  fall: 21.046215515208676  winter: 29.67062383612663\n",
      "금정구 spring: 27.455699123211815  summer: 21.147045454545456  fall: 19.004653327128896  winter: 25.775529192835542\n",
      "기장군 spring: 21.023394495412845  summer: 19.778214616096207  fall: 13.883838383838384  winter: 21.097186700767264\n",
      "남구 spring: 22.667138142385667  summer: 17.49365367180417  fall: 14.169138090824838  winter: 21.904562383612664\n",
      "동구 spring: 24.747484427407763  summer: 18.363179534033804  fall: 15.228215767634854  winter: 22.419897244278374\n",
      "동래구 spring: 28.166744730679156  summer: 21.67587476979742  fall: 17.708837209302324  winter: 29.876801487680147\n",
      "부산진구 spring: 26.015939990623536  summer: 20.6713572401271  fall: 16.81422018348624  winter: 27.87267657992565\n",
      "북구 spring: 24.869926199261993  summer: 19.13953488372093  fall: 19.39268978444236  winter: 27.315617715617716\n",
      "사상구 spring: 25.650697674418605  summer: 20.48549723756906  fall: 23.183910718437573  winter: 32.14409421544856\n",
      "사하구 spring: 29.94141689373297  summer: 24.31987295825771  fall: 26.945821854912765  winter: 36.411901441190146\n",
      "서구 spring: 27.870041039671683  summer: 24.24440383736866  fall: 19.84259691732835  winter: 29.601344860710856\n",
      "수영구 spring: 27.429283771532184  summer: 23.456338028169014  fall: 20.41852886405959  winter: 26.561387066541705\n",
      "연제구 spring: 26.868047337278107  summer: 19.78262846748522  fall: 19.690366972477065  winter: 23.515057113187954\n",
      "영도구 spring: 21.39908675799087  summer: 16.763278388278387  fall: 16.483901073261784  winter: 21.397579143389198\n",
      "중구 spring: 27.269709543568464  summer: 23.88294010889292  fall: 20.1197247706422  winter: 26.81191806331471\n",
      "해운대구 spring: 23.097008159564822  summer: 18.99113805970149  fall: 18.673693858845095  winter: 24.141461144718473\n"
     ]
    }
   ],
   "source": [
    "ad = ad[['지역','월','pm2.5']]\n",
    "busan_district = ['강서구', '금정구', '기장군', '남구', '동구', '동래구', '부산진구', '북구', '사상구', '사하구','서구', '수영구', '연제구', '영도구', '중구', \n",
    "                  '해운대구']\n",
    "for b_district in busan_district:\n",
    "    district = ad.loc[ad['지역'] == b_district]\n",
    "\n",
    "    spring = district[((district['월'] >= 3) & (district['월'] <= 5))]['pm2.5'].mean()\n",
    "    summer = district[((district['월'] >= 6) & (district['월'] <= 8))]['pm2.5'].mean()\n",
    "    fall = district[((district['월'] >= 9) & (district['월'] <= 11))]['pm2.5'].mean()\n",
    "    winter = district[((district['월'] <= 2) + (district['월'] == 12))]['pm2.5'].mean()\n",
    "    print(b_district ,'spring:', spring,' summer:', summer,' fall:', fall,' winter:', winter )\n",
    "#     print(b_district , 'spring:', spring, 'summer:', summer, 'fall:', fall, 'winter:', winter)\n",
    "# 아래 자료를 dataframe에 넣을 수 있을까?"
   ]
  },
  {
   "cell_type": "code",
   "execution_count": null,
   "metadata": {},
   "outputs": [],
   "source": []
  }
 ],
 "metadata": {
  "kernelspec": {
   "display_name": "Python 3",
   "language": "python",
   "name": "python3"
  },
  "language_info": {
   "codemirror_mode": {
    "name": "ipython",
    "version": 3
   },
   "file_extension": ".py",
   "mimetype": "text/x-python",
   "name": "python",
   "nbconvert_exporter": "python",
   "pygments_lexer": "ipython3",
   "version": "3.7.3"
  }
 },
 "nbformat": 4,
 "nbformat_minor": 2
}
