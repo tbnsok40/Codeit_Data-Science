{
 "cells": [
  {
   "cell_type": "code",
   "execution_count": 1,
   "metadata": {},
   "outputs": [],
   "source": [
    "import pandas as pd"
   ]
  },
  {
   "cell_type": "markdown",
   "metadata": {},
   "source": [
    "# 강서구 월별 오염물 별 농도"
   ]
  },
  {
   "cell_type": "code",
   "execution_count": 199,
   "metadata": {},
   "outputs": [
    {
     "data": {
      "text/html": [
       "<div>\n",
       "<style scoped>\n",
       "    .dataframe tbody tr th:only-of-type {\n",
       "        vertical-align: middle;\n",
       "    }\n",
       "\n",
       "    .dataframe tbody tr th {\n",
       "        vertical-align: top;\n",
       "    }\n",
       "\n",
       "    .dataframe thead th {\n",
       "        text-align: right;\n",
       "    }\n",
       "</style>\n",
       "<table border=\"1\" class=\"dataframe\">\n",
       "  <thead>\n",
       "    <tr style=\"text-align: right;\">\n",
       "      <th></th>\n",
       "      <th>pm25</th>\n",
       "    </tr>\n",
       "    <tr>\n",
       "      <th>month</th>\n",
       "      <th></th>\n",
       "    </tr>\n",
       "  </thead>\n",
       "  <tbody>\n",
       "    <tr>\n",
       "      <th>1</th>\n",
       "      <td>30.443919</td>\n",
       "    </tr>\n",
       "    <tr>\n",
       "      <th>2</th>\n",
       "      <td>32.975262</td>\n",
       "    </tr>\n",
       "    <tr>\n",
       "      <th>3</th>\n",
       "      <td>30.360457</td>\n",
       "    </tr>\n",
       "    <tr>\n",
       "      <th>4</th>\n",
       "      <td>30.096729</td>\n",
       "    </tr>\n",
       "    <tr>\n",
       "      <th>5</th>\n",
       "      <td>26.132153</td>\n",
       "    </tr>\n",
       "    <tr>\n",
       "      <th>6</th>\n",
       "      <td>27.153203</td>\n",
       "    </tr>\n",
       "    <tr>\n",
       "      <th>7</th>\n",
       "      <td>23.711486</td>\n",
       "    </tr>\n",
       "    <tr>\n",
       "      <th>8</th>\n",
       "      <td>16.739689</td>\n",
       "    </tr>\n",
       "    <tr>\n",
       "      <th>9</th>\n",
       "      <td>13.832012</td>\n",
       "    </tr>\n",
       "    <tr>\n",
       "      <th>10</th>\n",
       "      <td>18.253879</td>\n",
       "    </tr>\n",
       "    <tr>\n",
       "      <th>11</th>\n",
       "      <td>30.771588</td>\n",
       "    </tr>\n",
       "    <tr>\n",
       "      <th>12</th>\n",
       "      <td>25.923752</td>\n",
       "    </tr>\n",
       "  </tbody>\n",
       "</table>\n",
       "</div>"
      ],
      "text/plain": [
       "            pm25\n",
       "month           \n",
       "1      30.443919\n",
       "2      32.975262\n",
       "3      30.360457\n",
       "4      30.096729\n",
       "5      26.132153\n",
       "6      27.153203\n",
       "7      23.711486\n",
       "8      16.739689\n",
       "9      13.832012\n",
       "10     18.253879\n",
       "11     30.771588\n",
       "12     25.923752"
      ]
     },
     "execution_count": 199,
     "metadata": {},
     "output_type": "execute_result"
    }
   ],
   "source": [
    "# df = pd.read_csv('C:/codeit/rawdata.csv')\n",
    "\n",
    "df = df[['월','pm2.5','so2','o3','no2','pm10']]\n",
    "\n",
    "# lists = ['pm2.5','so2','o3','no2','pm10']\n",
    "\n",
    "# for particle in lists:\n",
    "#     for i in range(1,13):\n",
    "#         print((df.loc[df['월'] == i, particle]).mean())\n",
    "#     print('--------------------', particle)\n",
    "    \n",
    "# import seaborn as sns\n",
    "\n",
    "# dataframe 을 만들어야해. row 는 월별, column은 물질별\n",
    "\n",
    "pm25 = []\n",
    "\n",
    "for i in range(1,13):\n",
    "    pm25.append((df.loc[df['월'] == i, 'pm2.5']).mean())\n",
    "month = []\n",
    "for i in range(1,13):\n",
    "    month.append(i)\n",
    "\n",
    "diction = {\n",
    "    'month': month,\n",
    "    'pm25': pm25\n",
    "}\n",
    "df1 = pd.DataFrame(diction)\n",
    "df1 = df1.set_index('month')\n",
    "\n",
    "df1\n"
   ]
  },
  {
   "cell_type": "markdown",
   "metadata": {},
   "source": [
    "# 강서구 월별 pm2.5 평균 농도"
   ]
  },
  {
   "cell_type": "code",
   "execution_count": 155,
   "metadata": {},
   "outputs": [
    {
     "name": "stdout",
     "output_type": "stream",
     "text": [
      "30.443918918918918\n",
      "32.97526236881559\n",
      "30.360457296570274\n",
      "30.096729297146833\n",
      "26.132152588555858\n",
      "27.153203342618383\n",
      "23.711486486486486\n",
      "16.73968897903989\n",
      "13.832011535688537\n",
      "18.253878702397742\n",
      "30.771587743732592\n",
      "25.923751686909583\n"
     ]
    }
   ],
   "source": [
    "for i in range(1,13):\n",
    "    print(df.loc[df['월']==i,'pm2.5'].mean())"
   ]
  },
  {
   "cell_type": "markdown",
   "metadata": {},
   "source": [
    "# 문자열 처리 (부산시 강서구) ==> (강서구)"
   ]
  },
  {
   "cell_type": "code",
   "execution_count": 98,
   "metadata": {},
   "outputs": [
    {
     "data": {
      "text/plain": [
       "array(['강서구', '금정구', '기장군', '남구', '동구', '동래구', '부산진구', '북구', '사상구', '사하구',\n",
       "       '서구', '수영구', '연제구', '영도구', '중구', '해운대구'], dtype=object)"
      ]
     },
     "execution_count": 98,
     "metadata": {},
     "output_type": "execute_result"
    }
   ],
   "source": [
    "ad = pd.read_csv('C:/codeit/alldata.csv')\n",
    "ad.head()\n",
    "ad['지역'] = ad['지역'].apply(lambda e: e.split()[1]) # 개쩔~~~~\n",
    "ad['지역'].unique()"
   ]
  },
  {
   "cell_type": "code",
   "execution_count": 159,
   "metadata": {},
   "outputs": [],
   "source": [
    "busan_district = ['강서구', '금정구', '기장군', '남구', '동구', '동래구', '부산진구', '북구', '사상구', '사하구','서구', '수영구', '연제구', '영도구', '중구', \n",
    "                  '해운대구']\n",
    "\n",
    "# pm25 = ad[['월','지역','pm2.5']]\n",
    "\n",
    "# for district in busan_district:\n",
    "#     pm25[pm25['지역'] == district]\n",
    "    \n",
    "#     for i in range(1,13):\n",
    "\n",
    "# 이중 포문하면 너무 오래걸려\n",
    "\n",
    "# haeundae = pm25[pm25['지역'] == '해운대구']\n",
    "# for i in range(1,13):\n",
    "#     print((haeundae.loc[haeundae['월'] == i,'pm2.5']).mean())\n",
    "\n",
    "##     print((haeundae.loc[haeundae['월'] == i,'pm2.5']).mean())\n",
    "##    print(haeundae.loc[haeundae['월'] == i,'pm2.5']).mean()\n",
    "## print문을 감싸는 괄호가 있냐 없냐의 차이는 크다!\n"
   ]
  },
  {
   "cell_type": "code",
   "execution_count": null,
   "metadata": {},
   "outputs": [],
   "source": []
  },
  {
   "cell_type": "code",
   "execution_count": null,
   "metadata": {},
   "outputs": [],
   "source": []
  },
  {
   "cell_type": "code",
   "execution_count": null,
   "metadata": {},
   "outputs": [],
   "source": []
  }
 ],
 "metadata": {
  "kernelspec": {
   "display_name": "Python 3",
   "language": "python",
   "name": "python3"
  },
  "language_info": {
   "codemirror_mode": {
    "name": "ipython",
    "version": 3
   },
   "file_extension": ".py",
   "mimetype": "text/x-python",
   "name": "python",
   "nbconvert_exporter": "python",
   "pygments_lexer": "ipython3",
   "version": "3.7.3"
  }
 },
 "nbformat": 4,
 "nbformat_minor": 2
}
