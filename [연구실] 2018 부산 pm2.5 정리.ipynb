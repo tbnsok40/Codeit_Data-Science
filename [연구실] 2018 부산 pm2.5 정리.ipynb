{
 "cells": [
  {
   "cell_type": "code",
   "execution_count": 2,
   "metadata": {},
   "outputs": [],
   "source": [
    "import pandas as pd"
   ]
  },
  {
   "cell_type": "markdown",
   "metadata": {},
   "source": [
    "# 강서구 월별 오염물 별 농도"
   ]
  },
  {
   "cell_type": "code",
   "execution_count": 4,
   "metadata": {},
   "outputs": [
    {
     "name": "stdout",
     "output_type": "stream",
     "text": [
      "30.443918918918918\n",
      "32.97526236881559\n",
      "30.360457296570274\n",
      "30.096729297146833\n",
      "26.132152588555858\n",
      "27.153203342618383\n",
      "23.711486486486486\n",
      "16.73968897903989\n",
      "13.832011535688537\n",
      "18.253878702397742\n",
      "30.771587743732592\n",
      "25.923751686909583\n",
      "-------------------- pm2.5\n",
      "0.005098105548037837\n",
      "0.00598270676691722\n",
      "0.005736271186440625\n",
      "0.005638596491228033\n",
      "0.006252881355932138\n",
      "0.007008391608391559\n",
      "0.006370420624151952\n",
      "0.005748805460750811\n",
      "0.003960555149744296\n",
      "0.0032783149171270428\n",
      "0.004556412053258548\n",
      "0.00492595108695649\n",
      "-------------------- so2\n",
      "0.019859269282814618\n",
      "0.026145864661654146\n",
      "0.03113627118644064\n",
      "0.035498248072880156\n",
      "0.03722752420470262\n",
      "0.03961328671328669\n",
      "0.0287140921409214\n",
      "0.026633964817320714\n",
      "0.030332400279915937\n",
      "0.02718922651933705\n",
      "0.018728801681850007\n",
      "0.016675271739130366\n",
      "-------------------- o3\n",
      "0.020590663058186742\n",
      "0.021969924812030014\n",
      "0.02079669193659538\n",
      "0.019602672292545645\n",
      "0.017871186440677943\n",
      "0.018756643356643322\n",
      "0.014131147540983574\n",
      "0.010592944369063717\n",
      "0.012173547935619283\n",
      "0.018425531914893566\n",
      "0.027062324929971883\n",
      "0.02178064066852369\n",
      "-------------------- no2\n",
      "48.146341463414636\n",
      "54.104387291981844\n",
      "46.580579905596764\n",
      "63.275158339197745\n",
      "43.69214876033058\n",
      "43.70237239396118\n",
      "41.59233449477352\n",
      "32.52227553118574\n",
      "27.09433962264151\n",
      "35.426981919332405\n",
      "56.11652542372882\n",
      "47.73651452282158\n",
      "-------------------- pm10\n"
     ]
    }
   ],
   "source": [
    "df = pd.read_csv('C:/codeit/rawdata.csv')\n",
    "df = df[['월','pm2.5','so2','o3','no2','pm10']]\n",
    "\n",
    "lists = ['pm2.5','so2','o3','no2','pm10']\n",
    "\n",
    "for particle in lists:\n",
    "    for i in range(1,13):\n",
    "        print((df.loc[df['월'] == i, particle]).mean())\n",
    "    print('--------------------', particle)\n",
    "    \n",
    "# import seaborn as sns\n",
    "\n",
    "# #dataframe 을 만들어야해. row 는 월별, column은 물질별\n",
    "\n",
    "# pm25 = []\n",
    "\n",
    "# for i in range(1,13):\n",
    "#     pm25.append((df.loc[df['월'] == i, 'pm2.5']).mean())\n",
    "# month = []\n",
    "# for i in range(1,13):\n",
    "#     month.append(i)\n",
    "\n",
    "# diction = {\n",
    "#     'month': month,\n",
    "#     'pm25': pm25\n",
    "# }\n",
    "# df1 = pd.DataFrame(diction)\n",
    "# df1 = df1.set_index('month')\n",
    "\n",
    "# df1.head()\n"
   ]
  },
  {
   "cell_type": "markdown",
   "metadata": {},
   "source": [
    "# 강서구 월별 pm2.5 평균 농도"
   ]
  },
  {
   "cell_type": "code",
   "execution_count": 17,
   "metadata": {},
   "outputs": [
    {
     "name": "stdout",
     "output_type": "stream",
     "text": [
      "30.443918918918918\n",
      "32.97526236881559\n",
      "30.360457296570274\n",
      "30.096729297146833\n",
      "26.132152588555858\n",
      "27.153203342618383\n",
      "23.711486486486486\n",
      "16.73968897903989\n",
      "13.832011535688537\n",
      "18.253878702397742\n",
      "30.771587743732592\n",
      "25.923751686909583\n"
     ]
    }
   ],
   "source": [
    "for i in range(1,13):\n",
    "    print(df.loc[df['월']==i,'pm2.5'].mean())"
   ]
  },
  {
   "cell_type": "markdown",
   "metadata": {},
   "source": [
    "# 문자열 처리 (부산시 강서구) ==> (강서구)"
   ]
  },
  {
   "cell_type": "code",
   "execution_count": 53,
   "metadata": {},
   "outputs": [
    {
     "data": {
      "text/plain": [
       "array(['강서구', '금정구', '기장군', '남구', '동구', '동래구', '부산진구', '북구', '사상구', '사하구',\n",
       "       '서구', '수영구', '연제구', '영도구', '중구', '해운대구'], dtype=object)"
      ]
     },
     "execution_count": 53,
     "metadata": {},
     "output_type": "execute_result"
    }
   ],
   "source": [
    "ad = pd.read_csv('C:/codeit/alldata.csv')\n",
    "ad['지역'] = ad['지역'].apply(lambda e: e.split()[1])\n",
    "ad['지역'].unique()\n",
    "# ad['지역'] = ad['지역'].apply(lambda e: e.split()[1]) # 개쩔~~~~\n",
    "# ad['지역'].unique()"
   ]
  },
  {
   "cell_type": "code",
   "execution_count": 5,
   "metadata": {},
   "outputs": [],
   "source": [
    "busan_district = ['강서구', '금정구', '기장군', '남구', '동구', '동래구', '부산진구', '북구', '사상구', '사하구','서구', '수영구', '연제구', '영도구', '중구', \n",
    "                  '해운대구']\n",
    "\n",
    "# pm25 = ad[['월','지역','pm2.5']]\n",
    "\n",
    "# for district in busan_district:\n",
    "#     pm25[pm25['지역'] == district]\n",
    "    \n",
    "#     for i in range(1,13):\n",
    "\n",
    "# 이중 포문하면 너무 오래걸려\n",
    "\n",
    "# haeundae = pm25[pm25['지역'] == '해운대구']\n",
    "# for i in range(1,13):\n",
    "#     print((haeundae.loc[haeundae['월'] == i,'pm2.5']).mean())\n",
    "\n",
    "##     print((haeundae.loc[haeundae['월'] == i,'pm2.5']).mean())\n",
    "##    print(haeundae.loc[haeundae['월'] == i,'pm2.5']).mean()\n",
    "## print문을 감싸는 괄호가 있냐 없냐의 차이는 크다!\n"
   ]
  },
  {
   "cell_type": "code",
   "execution_count": 6,
   "metadata": {},
   "outputs": [
    {
     "data": {
      "text/plain": [
       "28.880484811291808"
      ]
     },
     "execution_count": 6,
     "metadata": {},
     "output_type": "execute_result"
    }
   ],
   "source": [
    "# 봄 여름 가을 겨울, 16개 구\n",
    "ad = ad[['지역','월','pm2.5']]\n",
    "kangseo = ad.loc[ad['지역'] =='강서구']\n",
    "# kangseo[kangseo['월'] == 5] # 1416 ~ 7967\n",
    "spring = kangseo.iloc[1416:7968, :]\n",
    "spring['pm2.5'].mean()\n",
    "# kangseo.loc[kangseo['월'] == 3, 'pm2.5'].mean()"
   ]
  },
  {
   "cell_type": "code",
   "execution_count": 7,
   "metadata": {},
   "outputs": [
    {
     "data": {
      "text/plain": [
       "28.860883424408016"
      ]
     },
     "execution_count": 7,
     "metadata": {},
     "output_type": "execute_result"
    }
   ],
   "source": [
    "ad = ad[['지역','월','pm2.5']]\n",
    "kangseo = ad.loc[ad['지역'] =='강서구']\n",
    "spring = ((kangseo['월'] >= 3) & (kangseo['월'] <= 5))\n",
    "kangseo[spring]['pm2.5'].mean()\n",
    "# summer = ((kangseo['월'] >= 6) & (kangseo['월'] <= 8)).mean()\n",
    "# fall = ((kangseo['월'] >= 9) & (kangseo['월'] <= 11)).mean()\n",
    "# winter = ((kangseo['월'] <= 2) + (kangseo['월'] == 12)).mean()\n",
    "# kangseo_list = [summer, spring, fall, winter]\n",
    "# kangseo_list\n"
   ]
  },
  {
   "cell_type": "code",
   "execution_count": 8,
   "metadata": {},
   "outputs": [
    {
     "name": "stderr",
     "output_type": "stream",
     "text": [
      "C:\\Users\\User\\Anaconda3\\lib\\site-packages\\pandas\\core\\computation\\expressions.py:183: UserWarning: evaluating in Python space because the '+' operator is not supported by numexpr for the bool dtype, use '|' instead\n",
      "  .format(op=op_str, alt_op=unsupported[op_str]))\n"
     ]
    },
    {
     "name": "stdout",
     "output_type": "stream",
     "text": [
      "28.860883424408016 , 22.489874857792948 , 21.046215515208676 , 29.67062383612663\n",
      "27.455699123211815 , 21.147045454545456 , 19.004653327128896 , 25.775529192835542\n",
      "21.023394495412845 , 19.778214616096207 , 13.883838383838384 , 21.097186700767264\n",
      "22.667138142385667 , 17.49365367180417 , 14.169138090824838 , 21.904562383612664\n",
      "24.747484427407763 , 18.363179534033804 , 15.228215767634854 , 22.419897244278374\n",
      "28.166744730679156 , 21.67587476979742 , 17.708837209302324 , 29.876801487680147\n",
      "26.015939990623536 , 20.6713572401271 , 16.81422018348624 , 27.87267657992565\n",
      "24.869926199261993 , 19.13953488372093 , 19.39268978444236 , 27.315617715617716\n",
      "25.650697674418605 , 20.48549723756906 , 23.183910718437573 , 32.14409421544856\n",
      "29.94141689373297 , 24.31987295825771 , 26.945821854912765 , 36.411901441190146\n",
      "27.870041039671683 , 24.24440383736866 , 19.84259691732835 , 29.601344860710856\n",
      "27.429283771532184 , 23.456338028169014 , 20.41852886405959 , 26.561387066541705\n",
      "26.868047337278107 , 19.78262846748522 , 19.690366972477065 , 23.515057113187954\n",
      "21.39908675799087 , 16.763278388278387 , 16.483901073261784 , 21.397579143389198\n",
      "27.269709543568464 , 23.88294010889292 , 20.1197247706422 , 26.81191806331471\n",
      "23.097008159564822 , 18.99113805970149 , 18.673693858845095 , 24.141461144718473\n"
     ]
    }
   ],
   "source": [
    "ad = ad[['지역','월','pm2.5']]\n",
    "busan_district = ['강서구', '금정구', '기장군', '남구', '동구', '동래구', '부산진구', '북구', '사상구', '사하구','서구', '수영구', '연제구', '영도구', '중구', \n",
    "                  '해운대구']\n",
    "for b_district in busan_district:\n",
    "    district = ad.loc[ad['지역'] == b_district]\n",
    "\n",
    "    spring = district[((district['월'] >= 3) & (district['월'] <= 5))]['pm2.5'].mean()\n",
    "    summer = district[((district['월'] >= 6) & (district['월'] <= 8))]['pm2.5'].mean()\n",
    "    fall = district[((district['월'] >= 9) & (district['월'] <= 11))]['pm2.5'].mean()\n",
    "    winter = district[((district['월'] <= 2) + (district['월'] == 12))]['pm2.5'].mean()\n",
    "    \n",
    "    print(spring,',', summer,',', fall,',', winter )\n",
    "#     print(b_district ,'spring:', spring,' summer:', summer,' fall:', fall,' winter:', winter )\n",
    "#     print(b_district , 'spring:', spring, 'summer:', summer, 'fall:', fall, 'winter:', winter)\n",
    "# 아래 자료를 dataframe에 넣을 수 있을까?"
   ]
  },
  {
   "cell_type": "markdown",
   "metadata": {},
   "source": [
    "# 부산 내 각 구의 pm2.5 계절 평균 농도"
   ]
  },
  {
   "cell_type": "code",
   "execution_count": 9,
   "metadata": {},
   "outputs": [],
   "source": [
    "강서구 = [28.860883424408016 , 22.489874857792948 , 21.046215515208676 , 29.67062383612663]\n",
    "금정구 = [27.455699123211815 , 21.147045454545456 , 19.004653327128896 , 25.775529192835542]\n",
    "기장군 = [21.023394495412845 , 19.778214616096207 , 13.883838383838384 , 21.097186700767264]\n",
    "남구 = [22.667138142385667 , 17.49365367180417 , 14.169138090824838 , 21.904562383612664]\n",
    "동구 = [24.747484427407763 , 18.363179534033804 , 15.228215767634854 , 22.419897244278374]\n",
    "동래구 = [28.166744730679156 , 21.67587476979742 , 17.708837209302324 , 29.876801487680147]\n",
    "부산진구 = [26.015939990623536 , 20.6713572401271 , 16.81422018348624 , 27.87267657992565]\n",
    "북구 = [24.869926199261993 , 19.13953488372093 , 19.39268978444236 , 27.315617715617716]\n",
    "사상구 = [25.650697674418605 , 20.48549723756906 , 23.183910718437573 , 32.14409421544856]\n",
    "사하구 = [29.94141689373297 , 24.31987295825771 , 26.945821854912765 , 36.411901441190146]\n",
    "서구 = [27.870041039671683 , 24.24440383736866 , 19.84259691732835 , 29.601344860710856]\n",
    "수영구 = [27.429283771532184 , 23.456338028169014 , 20.41852886405959 , 26.561387066541705]\n",
    "연제구 = [26.868047337278107 , 19.78262846748522 , 19.690366972477065 , 23.515057113187954]\n",
    "영도구 = [21.39908675799087 , 16.763278388278387 , 16.483901073261784 , 21.397579143389198]\n",
    "중구 = [27.269709543568464 , 23.88294010889292 , 20.1197247706422 , 26.81191806331471]\n",
    "해운대구 = [23.097008159564822 , 18.99113805970149 , 18.673693858845095 , 24.141461144718473]\n"
   ]
  },
  {
   "cell_type": "code",
   "execution_count": null,
   "metadata": {},
   "outputs": [],
   "source": []
  },
  {
   "cell_type": "code",
   "execution_count": 10,
   "metadata": {},
   "outputs": [
    {
     "data": {
      "text/html": [
       "<div>\n",
       "<style scoped>\n",
       "    .dataframe tbody tr th:only-of-type {\n",
       "        vertical-align: middle;\n",
       "    }\n",
       "\n",
       "    .dataframe tbody tr th {\n",
       "        vertical-align: top;\n",
       "    }\n",
       "\n",
       "    .dataframe thead th {\n",
       "        text-align: right;\n",
       "    }\n",
       "</style>\n",
       "<table border=\"1\" class=\"dataframe\">\n",
       "  <thead>\n",
       "    <tr style=\"text-align: right;\">\n",
       "      <th>계절</th>\n",
       "      <th>봄</th>\n",
       "      <th>여름</th>\n",
       "      <th>가을</th>\n",
       "      <th>겨울</th>\n",
       "    </tr>\n",
       "  </thead>\n",
       "  <tbody>\n",
       "    <tr>\n",
       "      <th>강서구</th>\n",
       "      <td>28.860883</td>\n",
       "      <td>22.489875</td>\n",
       "      <td>21.046216</td>\n",
       "      <td>29.670624</td>\n",
       "    </tr>\n",
       "    <tr>\n",
       "      <th>금정구</th>\n",
       "      <td>27.455699</td>\n",
       "      <td>21.147045</td>\n",
       "      <td>19.004653</td>\n",
       "      <td>25.775529</td>\n",
       "    </tr>\n",
       "    <tr>\n",
       "      <th>기장군</th>\n",
       "      <td>21.023394</td>\n",
       "      <td>19.778215</td>\n",
       "      <td>13.883838</td>\n",
       "      <td>21.097187</td>\n",
       "    </tr>\n",
       "    <tr>\n",
       "      <th>남구</th>\n",
       "      <td>22.667138</td>\n",
       "      <td>17.493654</td>\n",
       "      <td>14.169138</td>\n",
       "      <td>21.904562</td>\n",
       "    </tr>\n",
       "    <tr>\n",
       "      <th>동구</th>\n",
       "      <td>24.747484</td>\n",
       "      <td>18.363180</td>\n",
       "      <td>15.228216</td>\n",
       "      <td>22.419897</td>\n",
       "    </tr>\n",
       "    <tr>\n",
       "      <th>동래구</th>\n",
       "      <td>28.166745</td>\n",
       "      <td>21.675875</td>\n",
       "      <td>17.708837</td>\n",
       "      <td>29.876801</td>\n",
       "    </tr>\n",
       "    <tr>\n",
       "      <th>부산진구</th>\n",
       "      <td>26.015940</td>\n",
       "      <td>20.671357</td>\n",
       "      <td>16.814220</td>\n",
       "      <td>27.872677</td>\n",
       "    </tr>\n",
       "    <tr>\n",
       "      <th>북구</th>\n",
       "      <td>24.869926</td>\n",
       "      <td>19.139535</td>\n",
       "      <td>19.392690</td>\n",
       "      <td>27.315618</td>\n",
       "    </tr>\n",
       "    <tr>\n",
       "      <th>사상구</th>\n",
       "      <td>25.650698</td>\n",
       "      <td>20.485497</td>\n",
       "      <td>23.183911</td>\n",
       "      <td>32.144094</td>\n",
       "    </tr>\n",
       "    <tr>\n",
       "      <th>사하구</th>\n",
       "      <td>29.941417</td>\n",
       "      <td>24.319873</td>\n",
       "      <td>26.945822</td>\n",
       "      <td>36.411901</td>\n",
       "    </tr>\n",
       "    <tr>\n",
       "      <th>서구</th>\n",
       "      <td>27.870041</td>\n",
       "      <td>24.244404</td>\n",
       "      <td>19.842597</td>\n",
       "      <td>29.601345</td>\n",
       "    </tr>\n",
       "    <tr>\n",
       "      <th>수영구</th>\n",
       "      <td>27.429284</td>\n",
       "      <td>23.456338</td>\n",
       "      <td>20.418529</td>\n",
       "      <td>26.561387</td>\n",
       "    </tr>\n",
       "    <tr>\n",
       "      <th>연제구</th>\n",
       "      <td>26.868047</td>\n",
       "      <td>19.782628</td>\n",
       "      <td>19.690367</td>\n",
       "      <td>23.515057</td>\n",
       "    </tr>\n",
       "    <tr>\n",
       "      <th>영도구</th>\n",
       "      <td>21.399087</td>\n",
       "      <td>16.763278</td>\n",
       "      <td>16.483901</td>\n",
       "      <td>21.397579</td>\n",
       "    </tr>\n",
       "    <tr>\n",
       "      <th>중구</th>\n",
       "      <td>27.269710</td>\n",
       "      <td>23.882940</td>\n",
       "      <td>20.119725</td>\n",
       "      <td>26.811918</td>\n",
       "    </tr>\n",
       "    <tr>\n",
       "      <th>해운대구</th>\n",
       "      <td>23.097008</td>\n",
       "      <td>18.991138</td>\n",
       "      <td>18.673694</td>\n",
       "      <td>24.141461</td>\n",
       "    </tr>\n",
       "  </tbody>\n",
       "</table>\n",
       "</div>"
      ],
      "text/plain": [
       "계절            봄         여름         가을         겨울\n",
       "강서구   28.860883  22.489875  21.046216  29.670624\n",
       "금정구   27.455699  21.147045  19.004653  25.775529\n",
       "기장군   21.023394  19.778215  13.883838  21.097187\n",
       "남구    22.667138  17.493654  14.169138  21.904562\n",
       "동구    24.747484  18.363180  15.228216  22.419897\n",
       "동래구   28.166745  21.675875  17.708837  29.876801\n",
       "부산진구  26.015940  20.671357  16.814220  27.872677\n",
       "북구    24.869926  19.139535  19.392690  27.315618\n",
       "사상구   25.650698  20.485497  23.183911  32.144094\n",
       "사하구   29.941417  24.319873  26.945822  36.411901\n",
       "서구    27.870041  24.244404  19.842597  29.601345\n",
       "수영구   27.429284  23.456338  20.418529  26.561387\n",
       "연제구   26.868047  19.782628  19.690367  23.515057\n",
       "영도구   21.399087  16.763278  16.483901  21.397579\n",
       "중구    27.269710  23.882940  20.119725  26.811918\n",
       "해운대구  23.097008  18.991138  18.673694  24.141461"
      ]
     },
     "execution_count": 10,
     "metadata": {},
     "output_type": "execute_result"
    }
   ],
   "source": [
    "season = ['봄','여름','가을','겨울']\n",
    "busan_district = ['강서구', '금정구', '기장군', '남구', '동구', '동래구', '부산진구', '북구', '사상구', '사하구',\n",
    "                  '서구', '수영구', '연제구', '영도구', '중구', '해운대구']\n",
    "dict3 = {\n",
    "    '계절': pd.Series(season),\n",
    "    '강서구':pd.Series(강서구),\n",
    "    '금정구':pd.Series(금정구), \n",
    "    '기장군':pd.Series(기장군),\n",
    "    '남구':pd.Series(남구),\n",
    "    '동구':pd.Series(동구),\n",
    "    '동래구':pd.Series(동래구),\n",
    "    '부산진구':pd.Series(부산진구),\n",
    "    '북구':pd.Series(북구),\n",
    "    '사상구':pd.Series(사상구),\n",
    "    '사하구':pd.Series(사하구),\n",
    "    '서구':pd.Series(서구),\n",
    "    '수영구':pd.Series(수영구),\n",
    "    '연제구':pd.Series(연제구),\n",
    "    '영도구':pd.Series(영도구), \n",
    "    '중구':pd.Series(중구),\n",
    "    '해운대구':pd.Series(해운대구)\n",
    "}\n",
    "dff = pd.DataFrame(dict3).set_index('계절')\n",
    "dff = dff.T\n",
    "dff"
   ]
  },
  {
   "cell_type": "code",
   "execution_count": 54,
   "metadata": {},
   "outputs": [
    {
     "data": {
      "text/html": [
       "<div>\n",
       "<style scoped>\n",
       "    .dataframe tbody tr th:only-of-type {\n",
       "        vertical-align: middle;\n",
       "    }\n",
       "\n",
       "    .dataframe tbody tr th {\n",
       "        vertical-align: top;\n",
       "    }\n",
       "\n",
       "    .dataframe thead th {\n",
       "        text-align: right;\n",
       "    }\n",
       "</style>\n",
       "<table border=\"1\" class=\"dataframe\">\n",
       "  <thead>\n",
       "    <tr style=\"text-align: right;\">\n",
       "      <th>계절</th>\n",
       "      <th>봄</th>\n",
       "      <th>여름</th>\n",
       "      <th>가을</th>\n",
       "      <th>겨울</th>\n",
       "    </tr>\n",
       "    <tr>\n",
       "      <th>계절</th>\n",
       "      <th></th>\n",
       "      <th></th>\n",
       "      <th></th>\n",
       "      <th></th>\n",
       "    </tr>\n",
       "  </thead>\n",
       "  <tbody>\n",
       "    <tr>\n",
       "      <th>봄</th>\n",
       "      <td>1.000000</td>\n",
       "      <td>0.829401</td>\n",
       "      <td>0.727213</td>\n",
       "      <td>0.784150</td>\n",
       "    </tr>\n",
       "    <tr>\n",
       "      <th>여름</th>\n",
       "      <td>0.829401</td>\n",
       "      <td>1.000000</td>\n",
       "      <td>0.662854</td>\n",
       "      <td>0.720406</td>\n",
       "    </tr>\n",
       "    <tr>\n",
       "      <th>가을</th>\n",
       "      <td>0.727213</td>\n",
       "      <td>0.662854</td>\n",
       "      <td>1.000000</td>\n",
       "      <td>0.856957</td>\n",
       "    </tr>\n",
       "    <tr>\n",
       "      <th>겨울</th>\n",
       "      <td>0.784150</td>\n",
       "      <td>0.720406</td>\n",
       "      <td>0.856957</td>\n",
       "      <td>1.000000</td>\n",
       "    </tr>\n",
       "  </tbody>\n",
       "</table>\n",
       "</div>"
      ],
      "text/plain": [
       "계절         봄        여름        가을        겨울\n",
       "계절                                        \n",
       "봄   1.000000  0.829401  0.727213  0.784150\n",
       "여름  0.829401  1.000000  0.662854  0.720406\n",
       "가을  0.727213  0.662854  1.000000  0.856957\n",
       "겨울  0.784150  0.720406  0.856957  1.000000"
      ]
     },
     "execution_count": 54,
     "metadata": {},
     "output_type": "execute_result"
    }
   ],
   "source": [
    "dff.corr()\n",
    "# 이건 그닥... 애써 지역구 별로 계절별 농도 나눴는데, 지역 특색 버리고 그냥 하나로 묶어 퉁친 것."
   ]
  },
  {
   "cell_type": "markdown",
   "metadata": {},
   "source": [
    "# 부산 각 구의 계절별 미세먼지 (pm2.5) 농도 지도 구현"
   ]
  },
  {
   "cell_type": "code",
   "execution_count": 56,
   "metadata": {},
   "outputs": [
    {
     "data": {
      "text/html": [
       "<div>\n",
       "<style scoped>\n",
       "    .dataframe tbody tr th:only-of-type {\n",
       "        vertical-align: middle;\n",
       "    }\n",
       "\n",
       "    .dataframe tbody tr th {\n",
       "        vertical-align: top;\n",
       "    }\n",
       "\n",
       "    .dataframe thead th {\n",
       "        text-align: right;\n",
       "    }\n",
       "</style>\n",
       "<table border=\"1\" class=\"dataframe\">\n",
       "  <thead>\n",
       "    <tr style=\"text-align: right;\">\n",
       "      <th>계절</th>\n",
       "      <th>봄</th>\n",
       "      <th>여름</th>\n",
       "      <th>가을</th>\n",
       "      <th>겨울</th>\n",
       "    </tr>\n",
       "  </thead>\n",
       "  <tbody>\n",
       "    <tr>\n",
       "      <th>강서구</th>\n",
       "      <td>28.860883</td>\n",
       "      <td>22.489875</td>\n",
       "      <td>21.046216</td>\n",
       "      <td>29.670624</td>\n",
       "    </tr>\n",
       "    <tr>\n",
       "      <th>금정구</th>\n",
       "      <td>27.455699</td>\n",
       "      <td>21.147045</td>\n",
       "      <td>19.004653</td>\n",
       "      <td>25.775529</td>\n",
       "    </tr>\n",
       "    <tr>\n",
       "      <th>기장군</th>\n",
       "      <td>21.023394</td>\n",
       "      <td>19.778215</td>\n",
       "      <td>13.883838</td>\n",
       "      <td>21.097187</td>\n",
       "    </tr>\n",
       "    <tr>\n",
       "      <th>남구</th>\n",
       "      <td>22.667138</td>\n",
       "      <td>17.493654</td>\n",
       "      <td>14.169138</td>\n",
       "      <td>21.904562</td>\n",
       "    </tr>\n",
       "    <tr>\n",
       "      <th>동구</th>\n",
       "      <td>24.747484</td>\n",
       "      <td>18.363180</td>\n",
       "      <td>15.228216</td>\n",
       "      <td>22.419897</td>\n",
       "    </tr>\n",
       "    <tr>\n",
       "      <th>동래구</th>\n",
       "      <td>28.166745</td>\n",
       "      <td>21.675875</td>\n",
       "      <td>17.708837</td>\n",
       "      <td>29.876801</td>\n",
       "    </tr>\n",
       "    <tr>\n",
       "      <th>부산진구</th>\n",
       "      <td>26.015940</td>\n",
       "      <td>20.671357</td>\n",
       "      <td>16.814220</td>\n",
       "      <td>27.872677</td>\n",
       "    </tr>\n",
       "    <tr>\n",
       "      <th>북구</th>\n",
       "      <td>24.869926</td>\n",
       "      <td>19.139535</td>\n",
       "      <td>19.392690</td>\n",
       "      <td>27.315618</td>\n",
       "    </tr>\n",
       "    <tr>\n",
       "      <th>사상구</th>\n",
       "      <td>25.650698</td>\n",
       "      <td>20.485497</td>\n",
       "      <td>23.183911</td>\n",
       "      <td>32.144094</td>\n",
       "    </tr>\n",
       "    <tr>\n",
       "      <th>사하구</th>\n",
       "      <td>29.941417</td>\n",
       "      <td>24.319873</td>\n",
       "      <td>26.945822</td>\n",
       "      <td>36.411901</td>\n",
       "    </tr>\n",
       "    <tr>\n",
       "      <th>서구</th>\n",
       "      <td>27.870041</td>\n",
       "      <td>24.244404</td>\n",
       "      <td>19.842597</td>\n",
       "      <td>29.601345</td>\n",
       "    </tr>\n",
       "    <tr>\n",
       "      <th>수영구</th>\n",
       "      <td>27.429284</td>\n",
       "      <td>23.456338</td>\n",
       "      <td>20.418529</td>\n",
       "      <td>26.561387</td>\n",
       "    </tr>\n",
       "    <tr>\n",
       "      <th>연제구</th>\n",
       "      <td>26.868047</td>\n",
       "      <td>19.782628</td>\n",
       "      <td>19.690367</td>\n",
       "      <td>23.515057</td>\n",
       "    </tr>\n",
       "    <tr>\n",
       "      <th>영도구</th>\n",
       "      <td>21.399087</td>\n",
       "      <td>16.763278</td>\n",
       "      <td>16.483901</td>\n",
       "      <td>21.397579</td>\n",
       "    </tr>\n",
       "    <tr>\n",
       "      <th>중구</th>\n",
       "      <td>27.269710</td>\n",
       "      <td>23.882940</td>\n",
       "      <td>20.119725</td>\n",
       "      <td>26.811918</td>\n",
       "    </tr>\n",
       "    <tr>\n",
       "      <th>해운대구</th>\n",
       "      <td>23.097008</td>\n",
       "      <td>18.991138</td>\n",
       "      <td>18.673694</td>\n",
       "      <td>24.141461</td>\n",
       "    </tr>\n",
       "  </tbody>\n",
       "</table>\n",
       "</div>"
      ],
      "text/plain": [
       "계절            봄         여름         가을         겨울\n",
       "강서구   28.860883  22.489875  21.046216  29.670624\n",
       "금정구   27.455699  21.147045  19.004653  25.775529\n",
       "기장군   21.023394  19.778215  13.883838  21.097187\n",
       "남구    22.667138  17.493654  14.169138  21.904562\n",
       "동구    24.747484  18.363180  15.228216  22.419897\n",
       "동래구   28.166745  21.675875  17.708837  29.876801\n",
       "부산진구  26.015940  20.671357  16.814220  27.872677\n",
       "북구    24.869926  19.139535  19.392690  27.315618\n",
       "사상구   25.650698  20.485497  23.183911  32.144094\n",
       "사하구   29.941417  24.319873  26.945822  36.411901\n",
       "서구    27.870041  24.244404  19.842597  29.601345\n",
       "수영구   27.429284  23.456338  20.418529  26.561387\n",
       "연제구   26.868047  19.782628  19.690367  23.515057\n",
       "영도구   21.399087  16.763278  16.483901  21.397579\n",
       "중구    27.269710  23.882940  20.119725  26.811918\n",
       "해운대구  23.097008  18.991138  18.673694  24.141461"
      ]
     },
     "execution_count": 56,
     "metadata": {},
     "output_type": "execute_result"
    }
   ],
   "source": [
    "spring_dff = dff['봄']\n",
    "sumer"
   ]
  },
  {
   "cell_type": "code",
   "execution_count": null,
   "metadata": {},
   "outputs": [],
   "source": []
  },
  {
   "cell_type": "code",
   "execution_count": null,
   "metadata": {},
   "outputs": [],
   "source": []
  },
  {
   "cell_type": "code",
   "execution_count": null,
   "metadata": {},
   "outputs": [],
   "source": []
  },
  {
   "cell_type": "code",
   "execution_count": null,
   "metadata": {},
   "outputs": [],
   "source": []
  },
  {
   "cell_type": "code",
   "execution_count": 55,
   "metadata": {},
   "outputs": [
    {
     "data": {
      "text/plain": [
       "<matplotlib.axes._subplots.AxesSubplot at 0x1af722574e0>"
      ]
     },
     "execution_count": 55,
     "metadata": {},
     "output_type": "execute_result"
    },
    {
     "data": {
      "image/png": "[encoded data removed]",
      "text/plain": [
       "<Figure size 1008x648 with 2 Axes>"
      ]
     },
     "metadata": {
      "needs_background": "light"
     },
     "output_type": "display_data"
    }
   ],
   "source": [
    "import seaborn as sns\n",
    "map = dff.corr()\n",
    "sns.heatmap(map, annot = True)\n",
    "\n",
    "# 봄과 여름의 상관관계보다, 가을과 겨울의 상관관계가 더 크다."
   ]
  },
  {
   "cell_type": "code",
   "execution_count": null,
   "metadata": {},
   "outputs": [],
   "source": []
  },
  {
   "cell_type": "code",
   "execution_count": 13,
   "metadata": {},
   "outputs": [],
   "source": [
    "# 한글 폰트 지정\n",
    "from matplotlib import font_manager, rc\n",
    "font_name = font_manager.FontProperties(fname=\"c:/Windows/Fonts/malgun.ttf\").get_name()\n",
    "rc('font', family=font_name)"
   ]
  },
  {
   "cell_type": "code",
   "execution_count": 14,
   "metadata": {},
   "outputs": [
    {
     "data": {
      "text/plain": [
       "<matplotlib.axes._subplots.AxesSubplot at 0x1af6f419e10>"
      ]
     },
     "execution_count": 14,
     "metadata": {},
     "output_type": "execute_result"
    },
    {
     "data": {
      "image/png": "[encoded data removed]",
      "text/plain": [
       "<Figure size 1008x648 with 1 Axes>"
      ]
     },
     "metadata": {
      "needs_background": "light"
     },
     "output_type": "display_data"
    }
   ],
   "source": [
    "import matplotlib.pylab as plt\n",
    "plt.rcParams[\"figure.figsize\"] = (14,9)\n",
    "dff.plot(kind= 'bar', stacked=True, colormap = 'Paired')\n"
   ]
  },
  {
   "cell_type": "code",
   "execution_count": 43,
   "metadata": {},
   "outputs": [
    {
     "data": {
      "text/html": [
       "<div>\n",
       "<style scoped>\n",
       "    .dataframe tbody tr th:only-of-type {\n",
       "        vertical-align: middle;\n",
       "    }\n",
       "\n",
       "    .dataframe tbody tr th {\n",
       "        vertical-align: top;\n",
       "    }\n",
       "\n",
       "    .dataframe thead th {\n",
       "        text-align: right;\n",
       "    }\n",
       "</style>\n",
       "<table border=\"1\" class=\"dataframe\">\n",
       "  <thead>\n",
       "    <tr style=\"text-align: right;\">\n",
       "      <th></th>\n",
       "      <th>pm25</th>\n",
       "      <th>so2</th>\n",
       "      <th>o3</th>\n",
       "      <th>no2</th>\n",
       "      <th>pm10</th>\n",
       "    </tr>\n",
       "    <tr>\n",
       "      <th>month</th>\n",
       "      <th></th>\n",
       "      <th></th>\n",
       "      <th></th>\n",
       "      <th></th>\n",
       "      <th></th>\n",
       "    </tr>\n",
       "  </thead>\n",
       "  <tbody>\n",
       "    <tr>\n",
       "      <th>1</th>\n",
       "      <td>30.443919</td>\n",
       "      <td>0.005098</td>\n",
       "      <td>0.019859</td>\n",
       "      <td>0.020591</td>\n",
       "      <td>48.146341</td>\n",
       "    </tr>\n",
       "    <tr>\n",
       "      <th>2</th>\n",
       "      <td>32.975262</td>\n",
       "      <td>0.005983</td>\n",
       "      <td>0.026146</td>\n",
       "      <td>0.021970</td>\n",
       "      <td>54.104387</td>\n",
       "    </tr>\n",
       "    <tr>\n",
       "      <th>3</th>\n",
       "      <td>30.360457</td>\n",
       "      <td>0.005736</td>\n",
       "      <td>0.031136</td>\n",
       "      <td>0.020797</td>\n",
       "      <td>46.580580</td>\n",
       "    </tr>\n",
       "    <tr>\n",
       "      <th>4</th>\n",
       "      <td>30.096729</td>\n",
       "      <td>0.005639</td>\n",
       "      <td>0.035498</td>\n",
       "      <td>0.019603</td>\n",
       "      <td>63.275158</td>\n",
       "    </tr>\n",
       "    <tr>\n",
       "      <th>5</th>\n",
       "      <td>26.132153</td>\n",
       "      <td>0.006253</td>\n",
       "      <td>0.037228</td>\n",
       "      <td>0.017871</td>\n",
       "      <td>43.692149</td>\n",
       "    </tr>\n",
       "    <tr>\n",
       "      <th>6</th>\n",
       "      <td>27.153203</td>\n",
       "      <td>0.007008</td>\n",
       "      <td>0.039613</td>\n",
       "      <td>0.018757</td>\n",
       "      <td>43.702372</td>\n",
       "    </tr>\n",
       "    <tr>\n",
       "      <th>7</th>\n",
       "      <td>23.711486</td>\n",
       "      <td>0.006370</td>\n",
       "      <td>0.028714</td>\n",
       "      <td>0.014131</td>\n",
       "      <td>41.592334</td>\n",
       "    </tr>\n",
       "    <tr>\n",
       "      <th>8</th>\n",
       "      <td>16.739689</td>\n",
       "      <td>0.005749</td>\n",
       "      <td>0.026634</td>\n",
       "      <td>0.010593</td>\n",
       "      <td>32.522276</td>\n",
       "    </tr>\n",
       "    <tr>\n",
       "      <th>9</th>\n",
       "      <td>13.832012</td>\n",
       "      <td>0.003961</td>\n",
       "      <td>0.030332</td>\n",
       "      <td>0.012174</td>\n",
       "      <td>27.094340</td>\n",
       "    </tr>\n",
       "    <tr>\n",
       "      <th>10</th>\n",
       "      <td>18.253879</td>\n",
       "      <td>0.003278</td>\n",
       "      <td>0.027189</td>\n",
       "      <td>0.018426</td>\n",
       "      <td>35.426982</td>\n",
       "    </tr>\n",
       "    <tr>\n",
       "      <th>11</th>\n",
       "      <td>30.771588</td>\n",
       "      <td>0.004556</td>\n",
       "      <td>0.018729</td>\n",
       "      <td>0.027062</td>\n",
       "      <td>56.116525</td>\n",
       "    </tr>\n",
       "    <tr>\n",
       "      <th>12</th>\n",
       "      <td>25.923752</td>\n",
       "      <td>0.004926</td>\n",
       "      <td>0.016675</td>\n",
       "      <td>0.021781</td>\n",
       "      <td>47.736515</td>\n",
       "    </tr>\n",
       "  </tbody>\n",
       "</table>\n",
       "</div>"
      ],
      "text/plain": [
       "            pm25       so2        o3       no2       pm10\n",
       "month                                                    \n",
       "1      30.443919  0.005098  0.019859  0.020591  48.146341\n",
       "2      32.975262  0.005983  0.026146  0.021970  54.104387\n",
       "3      30.360457  0.005736  0.031136  0.020797  46.580580\n",
       "4      30.096729  0.005639  0.035498  0.019603  63.275158\n",
       "5      26.132153  0.006253  0.037228  0.017871  43.692149\n",
       "6      27.153203  0.007008  0.039613  0.018757  43.702372\n",
       "7      23.711486  0.006370  0.028714  0.014131  41.592334\n",
       "8      16.739689  0.005749  0.026634  0.010593  32.522276\n",
       "9      13.832012  0.003961  0.030332  0.012174  27.094340\n",
       "10     18.253879  0.003278  0.027189  0.018426  35.426982\n",
       "11     30.771588  0.004556  0.018729  0.027062  56.116525\n",
       "12     25.923752  0.004926  0.016675  0.021781  47.736515"
      ]
     },
     "execution_count": 43,
     "metadata": {},
     "output_type": "execute_result"
    }
   ],
   "source": [
    "df = pd.read_csv('C:/codeit/rawdata.csv')\n",
    "\n",
    "df = df[['월','pm2.5','so2','o3','no2','pm10']]\n",
    "\n",
    "lists = ['pm2.5','so2','o3','no2','pm10']\n",
    "\n",
    "    \n",
    "import seaborn as sns\n",
    "\n",
    "#dataframe 을 만들어야해. row 는 월별, column은 물질별\n",
    "\n",
    "month = []\n",
    "\n",
    "so2 = []\n",
    "o3 = []\n",
    "no2 = []\n",
    "pm10 = []\n",
    "pm25 = []\n",
    "\n",
    "for i in range(1,13):\n",
    "    pm25.append((df.loc[df['월'] == i, 'pm2.5']).mean())\n",
    "    \n",
    "for i in range(1,13):\n",
    "    so2.append((df.loc[df['월'] == i, 'so2']).mean())\n",
    "\n",
    "for i in range(1,13):\n",
    "    o3.append((df.loc[df['월'] == i, 'o3']).mean())\n",
    "    \n",
    "for i in range(1,13):\n",
    "    no2.append((df.loc[df['월'] == i, 'no2']).mean())\n",
    "    \n",
    "for i in range(1,13):\n",
    "    pm10.append((df.loc[df['월'] == i, 'pm10']).mean())\n",
    "    \n",
    "    \n",
    "for i in range(1,13):\n",
    "    month.append(i)\n",
    "\n",
    "diction = {\n",
    "    'month': month,\n",
    "    'pm25':pm25,\n",
    "    'so2': so2,\n",
    "    'o3':o3,\n",
    "    'no2':no2,\n",
    "    'pm10':pm10\n",
    "}\n",
    "df2= pd.DataFrame(diction)\n",
    "df2= df2.set_index('month')\n",
    "\n",
    "df2\n"
   ]
  },
  {
   "cell_type": "code",
   "execution_count": 44,
   "metadata": {},
   "outputs": [
    {
     "data": {
      "text/plain": [
       "<matplotlib.axes._subplots.AxesSubplot at 0x1af70e94f28>"
      ]
     },
     "execution_count": 44,
     "metadata": {},
     "output_type": "execute_result"
    },
    {
     "data": {
      "image/png": "[encoded data removed]",
      "text/plain": [
       "<Figure size 1008x648 with 1 Axes>"
      ]
     },
     "metadata": {
      "needs_background": "light"
     },
     "output_type": "display_data"
    }
   ],
   "source": [
    "# 부산 월별 대기질 시각화\n",
    "# 기존의 오염물질은 원래 드러나지 않을 만큼 있어야 하는 것이 맞지만, 이에 반해 미세먼지가 이루는 요소가 현저히 높은것을 볼 수 있다.\n",
    "df2 = df2\n",
    "df2.plot(kind= 'bar', stacked=True, colormap = 'Paired')"
   ]
  },
  {
   "cell_type": "code",
   "execution_count": 45,
   "metadata": {},
   "outputs": [
    {
     "data": {
      "text/plain": [
       "<matplotlib.axes._subplots.AxesSubplot at 0x1af719788d0>"
      ]
     },
     "execution_count": 45,
     "metadata": {},
     "output_type": "execute_result"
    },
    {
     "data": {
      "image/png": "[encoded data removed]",
      "text/plain": [
       "<Figure size 1008x648 with 1 Axes>"
      ]
     },
     "metadata": {
      "needs_background": "light"
     },
     "output_type": "display_data"
    }
   ],
   "source": [
    "df2 = df2[['so2','o3','no2']]\n",
    "df2.plot(kind= 'bar', stacked=True, colormap = 'Paired')\n",
    "\n",
    "# 미세먼지 제외한 오염물질의 상대 농도 비교"
   ]
  },
  {
   "cell_type": "code",
   "execution_count": null,
   "metadata": {},
   "outputs": [],
   "source": []
  }
 ],
 "metadata": {
  "kernelspec": {
   "display_name": "Python 3",
   "language": "python",
   "name": "python3"
  },
  "language_info": {
   "codemirror_mode": {
    "name": "ipython",
    "version": 3
   },
   "file_extension": ".py",
   "mimetype": "text/x-python",
   "name": "python",
   "nbconvert_exporter": "python",
   "pygments_lexer": "ipython3",
   "version": "3.7.3"
  }
 },
 "nbformat": 4,
 "nbformat_minor": 2
}
