{
 "cells": [
  {
   "cell_type": "code",
   "execution_count": 1,
   "metadata": {},
   "outputs": [],
   "source": [
    "from sympy import Symbol, solve"
   ]
  },
  {
   "cell_type": "code",
   "execution_count": 26,
   "metadata": {},
   "outputs": [],
   "source": [
    "x=Symbol('x') \n",
    "y=Symbol('y') "
   ]
  },
  {
   "cell_type": "markdown",
   "metadata": {},
   "source": [
    "# 각각의 위치(좌표)"
   ]
  },
  {
   "cell_type": "code",
   "execution_count": 27,
   "metadata": {},
   "outputs": [],
   "source": [
    "minji = (35.065202, 128.979718)\n",
    "yunjung = (35.187350, 129.080462)\n",
    "sunghoo = (35.138828, 129.100996)"
   ]
  },
  {
   "cell_type": "code",
   "execution_count": 28,
   "metadata": {},
   "outputs": [],
   "source": [
    "# equation1 = (x-minji[0])**2 +(y-minji[1])**2\n",
    "# equation2 = (x-yunjung[0])**2 +(y-yunjung[1])**2\n",
    "# equation3 = (x-sunghoo[0])**2 +(y-sunghoo[1])**2\n",
    "# solve((equation1, equation2, equation3 ), dict=True)\n"
   ]
  },
  {
   "cell_type": "markdown",
   "metadata": {},
   "source": [
    "## x좌표"
   ]
  },
  {
   "cell_type": "code",
   "execution_count": 29,
   "metadata": {},
   "outputs": [
    {
     "name": "stdout",
     "output_type": "stream",
     "text": [
      "35.13364577918918\n"
     ]
    }
   ],
   "source": [
    "분모 = (minji[0]**2)*(yunjung[1] - sunghoo[1]) + (yunjung[0]**2)*(sunghoo[1] - minji[1]) + (sunghoo[0]**2)*(minji[1] - yunjung[1]) - (minji[1]-yunjung[1])*(yunjung[1]-sunghoo[1])*(sunghoo[1]-minji[1])\n",
    "\n",
    "분자 = 2*(minji[0]*(yunjung[1]-sunghoo[1])+yunjung[0]*(sunghoo[1] - minji[1])+sunghoo[0]*(minji[1]-yunjung[1]))\n",
    "print(분모/분자)"
   ]
  },
  {
   "cell_type": "markdown",
   "metadata": {},
   "source": [
    "## y좌표"
   ]
  },
  {
   "cell_type": "code",
   "execution_count": 30,
   "metadata": {
    "scrolled": true
   },
   "outputs": [
    {
     "name": "stdout",
     "output_type": "stream",
     "text": [
      "129.02115444266616\n"
     ]
    }
   ],
   "source": [
    "분모 = (minji[1]**2)*(yunjung[0] - sunghoo[0]) + (yunjung[1]**2)*(sunghoo[0] - minji[0]) + (sunghoo[1]**2)*(minji[0] - yunjung[0]) - (minji[0]-yunjung[0])*(yunjung[0]-sunghoo[0])*(sunghoo[0]-minji[0])\n",
    "분자 = 2*(minji[1]*(yunjung[0]-sunghoo[0])+yunjung[1]*(sunghoo[0] - minji[0])+sunghoo[1]*(minji[0]-yunjung[0]))\n",
    "print(분모/분자)"
   ]
  },
  {
   "cell_type": "markdown",
   "metadata": {},
   "source": [
    "# 최종 외심 좌표(중간지점)"
   ]
  },
  {
   "cell_type": "code",
   "execution_count": 31,
   "metadata": {},
   "outputs": [],
   "source": [
    "coord = (35.13364577918918, 129.02115444266616)"
   ]
  }
 ],
 "metadata": {
  "kernelspec": {
   "display_name": "Python 3",
   "language": "python",
   "name": "python3"
  },
  "language_info": {
   "codemirror_mode": {
    "name": "ipython",
    "version": 3
   },
   "file_extension": ".py",
   "mimetype": "text/x-python",
   "name": "python",
   "nbconvert_exporter": "python",
   "pygments_lexer": "ipython3",
   "version": "3.7.3"
  }
 },
 "nbformat": 4,
 "nbformat_minor": 2
}
